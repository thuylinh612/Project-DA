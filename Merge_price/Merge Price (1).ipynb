{
 "cells": [
  {
   "cell_type": "code",
   "execution_count": null,
   "id": "f039edaf",
   "metadata": {},
   "outputs": [],
   "source": [
    "#Ứng dụng trong các tình huống giá sản phẩm/giá vốn hàng bán thay đổi liên tục \n",
    "#Cách 1: Sử dụng Merge_asof\n",
    "#Cách 2: Chia 2 trường hợp. Mỗi trường hợp xử lý trên một df rồi concat lại (Tư duy khá giống cte trong sql)\n",
    "#Cách 3: Dùng Def để thiết lập hàm\n",
    "File này sử dụng cách 2. "
   ]
  },
  {
   "cell_type": "code",
   "execution_count": 56,
   "id": "14da4e61",
   "metadata": {},
   "outputs": [],
   "source": [
    "import pandas as pd\n",
    "prices=pd.read_csv(r\"prices.csv\")\n",
    "sales=pd.read_csv(r\"sales.csv\")"
   ]
  },
  {
   "cell_type": "code",
   "execution_count": 57,
   "id": "28837c46",
   "metadata": {},
   "outputs": [
    {
     "name": "stdout",
     "output_type": "stream",
     "text": [
      "     product_id          ordered_at  quantity_ordered  old_price  new_price  \\\n",
      "0       3998909 2018-09-18 17:51:00                 1      15500      16500   \n",
      "1       3998909 2018-09-18 17:51:00                 1      17000      15500   \n",
      "2       3998909 2018-09-18 17:51:00                 1      19000      17000   \n",
      "3       3998909 2018-09-18 12:52:00                 1      15500      16500   \n",
      "4       3998909 2018-09-18 12:52:00                 1      17000      15500   \n",
      "..          ...                 ...               ...        ...        ...   \n",
      "949     4085861 2018-09-13 23:29:00                 1      67000      62500   \n",
      "950          64 2018-09-11 19:32:00                 1     270000     239000   \n",
      "951          64 2018-09-14 20:10:00                 1     270000     239000   \n",
      "952          64 2018-09-12 16:00:00                 1     270000     239000   \n",
      "953          64 2018-09-12 13:23:00                 1     270000     239000   \n",
      "\n",
      "             updated_at  \n",
      "0   2018-09-16 05:09:00  \n",
      "1   2018-09-13 06:43:00  \n",
      "2   2018-09-10 16:35:00  \n",
      "3   2018-09-16 05:09:00  \n",
      "4   2018-09-13 06:43:00  \n",
      "..                  ...  \n",
      "949 2018-09-13 06:43:00  \n",
      "950 2018-09-10 16:37:00  \n",
      "951 2018-09-10 16:37:00  \n",
      "952 2018-09-10 16:37:00  \n",
      "953 2018-09-10 16:37:00  \n",
      "\n",
      "[954 rows x 6 columns]\n"
     ]
    }
   ],
   "source": [
    "# Join 2 bang \n",
    "df= sales.merge(prices, on=\"product_id\", how=\"left\")\n",
    "df['ordered_at'] =  pd.to_datetime(df['ordered_at'])\n",
    "df['updated_at'] =  pd.to_datetime(df['updated_at'])\n",
    "print(df)\n"
   ]
  },
  {
   "cell_type": "code",
   "execution_count": 58,
   "id": "4d9b582a",
   "metadata": {},
   "outputs": [],
   "source": [
    "#Copy data ra 2 bien df moi \n",
    "case1=df.copy()\n",
    "case2=df.copy()"
   ]
  },
  {
   "cell_type": "code",
   "execution_count": 59,
   "id": "2ff3f708",
   "metadata": {},
   "outputs": [
    {
     "name": "stdout",
     "output_type": "stream",
     "text": [
      "     product_id          ordered_at  quantity_ordered  old_price  new_price  \\\n",
      "93      4085861 2018-09-11 06:53:00                 1      60000      53500   \n",
      "99      4085861 2018-09-11 08:24:00                 1      60000      53500   \n",
      "105     4085861 2018-09-11 06:26:00                 1      60000      53500   \n",
      "\n",
      "             updated_at         min_updated  price  \n",
      "93  2018-09-11 08:51:00 2018-09-11 08:51:00  60000  \n",
      "99  2018-09-11 08:51:00 2018-09-11 08:51:00  60000  \n",
      "105 2018-09-11 08:51:00 2018-09-11 08:51:00  60000  \n"
     ]
    }
   ],
   "source": [
    "#Truong hop 1: San pham khong co updated price tai thoi diem order => lay old_price cua ngay update som nhat.\n",
    "case1['min_updated']=case1.groupby(['product_id','ordered_at'])['updated_at'].transform(lambda x: x.min())\n",
    "case1=case1.loc[(case1['ordered_at'] <  case1['min_updated']) & (case1['updated_at']==case1['min_updated']) ,:]\n",
    "case1['price']=case1['old_price']\n",
    "print(case1)"
   ]
  },
  {
   "cell_type": "code",
   "execution_count": 64,
   "id": "1d4e2a41",
   "metadata": {},
   "outputs": [
    {
     "name": "stdout",
     "output_type": "stream",
     "text": [
      "     product_id          ordered_at  quantity_ordered  old_price  new_price  \\\n",
      "0       3998909 2018-09-18 17:51:00                 1      15500      16500   \n",
      "3       3998909 2018-09-18 12:52:00                 1      15500      16500   \n",
      "6       3998909 2018-09-18 11:33:00                 1      15500      16500   \n",
      "9       3998909 2018-09-18 18:47:00                 1      15500      16500   \n",
      "12      3998909 2018-09-18 17:36:00                 1      15500      16500   \n",
      "..          ...                 ...               ...        ...        ...   \n",
      "949     4085861 2018-09-13 23:29:00                 1      67000      62500   \n",
      "950          64 2018-09-11 19:32:00                 1     270000     239000   \n",
      "951          64 2018-09-14 20:10:00                 1     270000     239000   \n",
      "952          64 2018-09-12 16:00:00                 1     270000     239000   \n",
      "953          64 2018-09-12 13:23:00                 1     270000     239000   \n",
      "\n",
      "             updated_at         max_updated   price  \n",
      "0   2018-09-16 05:09:00 2018-09-16 05:09:00   16500  \n",
      "3   2018-09-16 05:09:00 2018-09-16 05:09:00   16500  \n",
      "6   2018-09-16 05:09:00 2018-09-16 05:09:00   16500  \n",
      "9   2018-09-16 05:09:00 2018-09-16 05:09:00   16500  \n",
      "12  2018-09-16 05:09:00 2018-09-16 05:09:00   16500  \n",
      "..                  ...                 ...     ...  \n",
      "949 2018-09-13 06:43:00 2018-09-13 06:43:00   62500  \n",
      "950 2018-09-10 16:37:00 2018-09-10 16:37:00  239000  \n",
      "951 2018-09-10 16:37:00 2018-09-10 16:37:00  239000  \n",
      "952 2018-09-10 16:37:00 2018-09-10 16:37:00  239000  \n",
      "953 2018-09-10 16:37:00 2018-09-10 16:37:00  239000  \n",
      "\n",
      "[172 rows x 8 columns]\n"
     ]
    }
   ],
   "source": [
    "#Truong hop 2: San pham co updated price tai thoi diem order => Lay new_price cua ngay update gan nhat voi order\n",
    "\n",
    "case2=case2.loc[(case2['ordered_at'] >  case2['updated_at'])]\n",
    "case2['max_updated']=case2.groupby(['product_id','ordered_at'])['updated_at'].transform(lambda x: x.max())\n",
    "case2=case2.loc[ (case2['updated_at']==case2['max_updated']) ,:]\n",
    "case2['price']=case2['new_price']\n",
    "\n",
    "print(case2)"
   ]
  },
  {
   "cell_type": "code",
   "execution_count": 66,
   "id": "a378d9af",
   "metadata": {},
   "outputs": [],
   "source": [
    "del case1['min_updated']\n",
    "del case2['max_updated']"
   ]
  },
  {
   "cell_type": "code",
   "execution_count": 98,
   "id": "c4b82ab6",
   "metadata": {},
   "outputs": [
    {
     "name": "stdout",
     "output_type": "stream",
     "text": [
      "                   revenue\n",
      "product_id price          \n",
      "64         239000   956000\n",
      "3954203    57500     57500\n",
      "           60000    180000\n",
      "           64000    640000\n",
      "3998909    15500     15500\n",
      "           16500    231000\n",
      "           17000     34000\n",
      "4085861    52000   1040000\n",
      "           53500   2140000\n",
      "           58000   2204000\n",
      "           60000    180000\n",
      "           62500   1812500\n",
      "           67000    871000\n"
     ]
    }
   ],
   "source": [
    "wrangled_data=pd.concat([case1,case2],axis=0)\n",
    "del wrangled_data['old_price']\n",
    "del wrangled_data['new_price']\n",
    "wrangled_data['revenue']=wrangled_data['quantity_ordered']* wrangled_data['price']\n",
    "total_revenue=wrangled_data.groupby(['product_id','price']).agg({'revenue':'sum'})\n",
    "\n",
    "print(wrangled_data_1)\n",
    "wrangled_data.to_csv(r\"C:\\Users\\ADMIN\\Downloads\\Data Wrangling Practise\\Data Wrangling Practise\\Wrangled_data.csv\")\n",
    "total_revenue.to_csv(r\"C:\\Users\\ADMIN\\Downloads\\Data Wrangling Practise\\Data Wrangling Practise\\Total_revenue.csv\")"
   ]
  },
  {
   "cell_type": "code",
   "execution_count": null,
   "id": "6c7e9356",
   "metadata": {},
   "outputs": [],
   "source": []
  },
  {
   "cell_type": "code",
   "execution_count": null,
   "id": "dec7795b",
   "metadata": {},
   "outputs": [],
   "source": []
  }
 ],
 "metadata": {
  "kernelspec": {
   "display_name": "Python 3 (ipykernel)",
   "language": "python",
   "name": "python3"
  },
  "language_info": {
   "codemirror_mode": {
    "name": "ipython",
    "version": 3
   },
   "file_extension": ".py",
   "mimetype": "text/x-python",
   "name": "python",
   "nbconvert_exporter": "python",
   "pygments_lexer": "ipython3",
   "version": "3.9.13"
  }
 },
 "nbformat": 4,
 "nbformat_minor": 5
}
